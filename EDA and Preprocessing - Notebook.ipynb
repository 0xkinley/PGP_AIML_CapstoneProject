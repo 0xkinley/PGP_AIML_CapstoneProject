{
 "cells": [
  {
   "cell_type": "code",
   "execution_count": 31,
   "metadata": {},
   "outputs": [],
   "source": [
    "import pandas as pd"
   ]
  },
  {
   "cell_type": "code",
   "execution_count": 32,
   "metadata": {},
   "outputs": [],
   "source": [
    "data = pd.read_excel(\"input_data (3).xlsx\")"
   ]
  },
  {
   "cell_type": "code",
   "execution_count": 33,
   "metadata": {},
   "outputs": [
    {
     "data": {
      "text/html": [
       "<div>\n",
       "<style scoped>\n",
       "    .dataframe tbody tr th:only-of-type {\n",
       "        vertical-align: middle;\n",
       "    }\n",
       "\n",
       "    .dataframe tbody tr th {\n",
       "        vertical-align: top;\n",
       "    }\n",
       "\n",
       "    .dataframe thead th {\n",
       "        text-align: right;\n",
       "    }\n",
       "</style>\n",
       "<table border=\"1\" class=\"dataframe\">\n",
       "  <thead>\n",
       "    <tr style=\"text-align: right;\">\n",
       "      <th></th>\n",
       "      <th>Short description</th>\n",
       "      <th>Description</th>\n",
       "      <th>Caller</th>\n",
       "      <th>Assignment group</th>\n",
       "    </tr>\n",
       "  </thead>\n",
       "  <tbody>\n",
       "    <tr>\n",
       "      <th>0</th>\n",
       "      <td>login issue</td>\n",
       "      <td>-verified user details.(employee# &amp; manager na...</td>\n",
       "      <td>spxjnwir pjlcoqds</td>\n",
       "      <td>GRP_0</td>\n",
       "    </tr>\n",
       "    <tr>\n",
       "      <th>1</th>\n",
       "      <td>outlook</td>\n",
       "      <td>_x000D_\\n_x000D_\\nreceived from: hmjdrvpb.komu...</td>\n",
       "      <td>hmjdrvpb komuaywn</td>\n",
       "      <td>GRP_0</td>\n",
       "    </tr>\n",
       "    <tr>\n",
       "      <th>2</th>\n",
       "      <td>cant log in to vpn</td>\n",
       "      <td>_x000D_\\n_x000D_\\nreceived from: eylqgodm.ybqk...</td>\n",
       "      <td>eylqgodm ybqkwiam</td>\n",
       "      <td>GRP_0</td>\n",
       "    </tr>\n",
       "    <tr>\n",
       "      <th>3</th>\n",
       "      <td>unable to access hr_tool page</td>\n",
       "      <td>unable to access hr_tool page</td>\n",
       "      <td>xbkucsvz gcpydteq</td>\n",
       "      <td>GRP_0</td>\n",
       "    </tr>\n",
       "    <tr>\n",
       "      <th>4</th>\n",
       "      <td>skype error</td>\n",
       "      <td>skype error</td>\n",
       "      <td>owlgqjme qhcozdfx</td>\n",
       "      <td>GRP_0</td>\n",
       "    </tr>\n",
       "  </tbody>\n",
       "</table>\n",
       "</div>"
      ],
      "text/plain": [
       "               Short description  \\\n",
       "0                    login issue   \n",
       "1                        outlook   \n",
       "2             cant log in to vpn   \n",
       "3  unable to access hr_tool page   \n",
       "4                   skype error    \n",
       "\n",
       "                                         Description             Caller  \\\n",
       "0  -verified user details.(employee# & manager na...  spxjnwir pjlcoqds   \n",
       "1  _x000D_\\n_x000D_\\nreceived from: hmjdrvpb.komu...  hmjdrvpb komuaywn   \n",
       "2  _x000D_\\n_x000D_\\nreceived from: eylqgodm.ybqk...  eylqgodm ybqkwiam   \n",
       "3                      unable to access hr_tool page  xbkucsvz gcpydteq   \n",
       "4                                       skype error   owlgqjme qhcozdfx   \n",
       "\n",
       "  Assignment group  \n",
       "0            GRP_0  \n",
       "1            GRP_0  \n",
       "2            GRP_0  \n",
       "3            GRP_0  \n",
       "4            GRP_0  "
      ]
     },
     "execution_count": 33,
     "metadata": {},
     "output_type": "execute_result"
    }
   ],
   "source": [
    "data.head()"
   ]
  },
  {
   "cell_type": "code",
   "execution_count": 34,
   "metadata": {},
   "outputs": [
    {
     "data": {
      "text/plain": [
       "(8500, 4)"
      ]
     },
     "execution_count": 34,
     "metadata": {},
     "output_type": "execute_result"
    }
   ],
   "source": [
    "data.shape"
   ]
  },
  {
   "cell_type": "code",
   "execution_count": 35,
   "metadata": {},
   "outputs": [
    {
     "name": "stdout",
     "output_type": "stream",
     "text": [
      "<class 'pandas.core.frame.DataFrame'>\n",
      "RangeIndex: 8500 entries, 0 to 8499\n",
      "Data columns (total 4 columns):\n",
      " #   Column             Non-Null Count  Dtype \n",
      "---  ------             --------------  ----- \n",
      " 0   Short description  8492 non-null   object\n",
      " 1   Description        8499 non-null   object\n",
      " 2   Caller             8500 non-null   object\n",
      " 3   Assignment group   8500 non-null   object\n",
      "dtypes: object(4)\n",
      "memory usage: 265.8+ KB\n"
     ]
    }
   ],
   "source": [
    "data.info()"
   ]
  },
  {
   "cell_type": "code",
   "execution_count": 36,
   "metadata": {},
   "outputs": [],
   "source": [
    "data.dropna(inplace=True)"
   ]
  },
  {
   "cell_type": "code",
   "execution_count": 37,
   "metadata": {},
   "outputs": [
    {
     "data": {
      "text/plain": [
       "(8491, 4)"
      ]
     },
     "execution_count": 37,
     "metadata": {},
     "output_type": "execute_result"
    }
   ],
   "source": [
    "data.shape"
   ]
  },
  {
   "cell_type": "code",
   "execution_count": 38,
   "metadata": {},
   "outputs": [
    {
     "data": {
      "text/html": [
       "<div>\n",
       "<style scoped>\n",
       "    .dataframe tbody tr th:only-of-type {\n",
       "        vertical-align: middle;\n",
       "    }\n",
       "\n",
       "    .dataframe tbody tr th {\n",
       "        vertical-align: top;\n",
       "    }\n",
       "\n",
       "    .dataframe thead th {\n",
       "        text-align: right;\n",
       "    }\n",
       "</style>\n",
       "<table border=\"1\" class=\"dataframe\">\n",
       "  <thead>\n",
       "    <tr style=\"text-align: right;\">\n",
       "      <th></th>\n",
       "      <th>Short description</th>\n",
       "      <th>Description</th>\n",
       "      <th>Caller</th>\n",
       "      <th>Assignment group</th>\n",
       "    </tr>\n",
       "  </thead>\n",
       "  <tbody>\n",
       "    <tr>\n",
       "      <th>0</th>\n",
       "      <td>login issue</td>\n",
       "      <td>-verified user details.(employee# &amp; manager na...</td>\n",
       "      <td>spxjnwir pjlcoqds</td>\n",
       "      <td>GRP_0</td>\n",
       "    </tr>\n",
       "    <tr>\n",
       "      <th>1</th>\n",
       "      <td>outlook</td>\n",
       "      <td>_x000D_\\n_x000D_\\nreceived from: hmjdrvpb.komu...</td>\n",
       "      <td>hmjdrvpb komuaywn</td>\n",
       "      <td>GRP_0</td>\n",
       "    </tr>\n",
       "    <tr>\n",
       "      <th>2</th>\n",
       "      <td>cant log in to vpn</td>\n",
       "      <td>_x000D_\\n_x000D_\\nreceived from: eylqgodm.ybqk...</td>\n",
       "      <td>eylqgodm ybqkwiam</td>\n",
       "      <td>GRP_0</td>\n",
       "    </tr>\n",
       "    <tr>\n",
       "      <th>3</th>\n",
       "      <td>unable to access hr_tool page</td>\n",
       "      <td>unable to access hr_tool page</td>\n",
       "      <td>xbkucsvz gcpydteq</td>\n",
       "      <td>GRP_0</td>\n",
       "    </tr>\n",
       "    <tr>\n",
       "      <th>4</th>\n",
       "      <td>skype error</td>\n",
       "      <td>skype error</td>\n",
       "      <td>owlgqjme qhcozdfx</td>\n",
       "      <td>GRP_0</td>\n",
       "    </tr>\n",
       "    <tr>\n",
       "      <th>5</th>\n",
       "      <td>unable to log in to engineering tool and skype</td>\n",
       "      <td>unable to log in to engineering tool and skype</td>\n",
       "      <td>eflahbxn ltdgrvkz</td>\n",
       "      <td>GRP_0</td>\n",
       "    </tr>\n",
       "    <tr>\n",
       "      <th>6</th>\n",
       "      <td>event: critical:HostName_221.company.com the v...</td>\n",
       "      <td>event: critical:HostName_221.company.com the v...</td>\n",
       "      <td>jyoqwxhz clhxsoqy</td>\n",
       "      <td>GRP_1</td>\n",
       "    </tr>\n",
       "    <tr>\n",
       "      <th>7</th>\n",
       "      <td>ticket_no1550391- employment status - new non-...</td>\n",
       "      <td>ticket_no1550391- employment status - new non-...</td>\n",
       "      <td>eqzibjhw ymebpoih</td>\n",
       "      <td>GRP_0</td>\n",
       "    </tr>\n",
       "    <tr>\n",
       "      <th>8</th>\n",
       "      <td>unable to disable add ins on outlook</td>\n",
       "      <td>unable to disable add ins on outlook</td>\n",
       "      <td>mdbegvct dbvichlg</td>\n",
       "      <td>GRP_0</td>\n",
       "    </tr>\n",
       "    <tr>\n",
       "      <th>9</th>\n",
       "      <td>ticket update on inplant_874773</td>\n",
       "      <td>ticket update on inplant_874773</td>\n",
       "      <td>fumkcsji sarmtlhy</td>\n",
       "      <td>GRP_0</td>\n",
       "    </tr>\n",
       "  </tbody>\n",
       "</table>\n",
       "</div>"
      ],
      "text/plain": [
       "                                   Short description  \\\n",
       "0                                        login issue   \n",
       "1                                            outlook   \n",
       "2                                 cant log in to vpn   \n",
       "3                      unable to access hr_tool page   \n",
       "4                                       skype error    \n",
       "5     unable to log in to engineering tool and skype   \n",
       "6  event: critical:HostName_221.company.com the v...   \n",
       "7  ticket_no1550391- employment status - new non-...   \n",
       "8               unable to disable add ins on outlook   \n",
       "9                    ticket update on inplant_874773   \n",
       "\n",
       "                                         Description             Caller  \\\n",
       "0  -verified user details.(employee# & manager na...  spxjnwir pjlcoqds   \n",
       "1  _x000D_\\n_x000D_\\nreceived from: hmjdrvpb.komu...  hmjdrvpb komuaywn   \n",
       "2  _x000D_\\n_x000D_\\nreceived from: eylqgodm.ybqk...  eylqgodm ybqkwiam   \n",
       "3                      unable to access hr_tool page  xbkucsvz gcpydteq   \n",
       "4                                       skype error   owlgqjme qhcozdfx   \n",
       "5     unable to log in to engineering tool and skype  eflahbxn ltdgrvkz   \n",
       "6  event: critical:HostName_221.company.com the v...  jyoqwxhz clhxsoqy   \n",
       "7  ticket_no1550391- employment status - new non-...  eqzibjhw ymebpoih   \n",
       "8               unable to disable add ins on outlook  mdbegvct dbvichlg   \n",
       "9                    ticket update on inplant_874773  fumkcsji sarmtlhy   \n",
       "\n",
       "  Assignment group  \n",
       "0            GRP_0  \n",
       "1            GRP_0  \n",
       "2            GRP_0  \n",
       "3            GRP_0  \n",
       "4            GRP_0  \n",
       "5            GRP_0  \n",
       "6            GRP_1  \n",
       "7            GRP_0  \n",
       "8            GRP_0  \n",
       "9            GRP_0  "
      ]
     },
     "execution_count": 38,
     "metadata": {},
     "output_type": "execute_result"
    }
   ],
   "source": [
    "data.head(10)"
   ]
  },
  {
   "cell_type": "code",
   "execution_count": 39,
   "metadata": {},
   "outputs": [
    {
     "data": {
      "text/html": [
       "<div>\n",
       "<style scoped>\n",
       "    .dataframe tbody tr th:only-of-type {\n",
       "        vertical-align: middle;\n",
       "    }\n",
       "\n",
       "    .dataframe tbody tr th {\n",
       "        vertical-align: top;\n",
       "    }\n",
       "\n",
       "    .dataframe thead th {\n",
       "        text-align: right;\n",
       "    }\n",
       "</style>\n",
       "<table border=\"1\" class=\"dataframe\">\n",
       "  <thead>\n",
       "    <tr style=\"text-align: right;\">\n",
       "      <th></th>\n",
       "      <th>Short description</th>\n",
       "      <th>Description</th>\n",
       "      <th>Caller</th>\n",
       "      <th>Assignment group</th>\n",
       "    </tr>\n",
       "  </thead>\n",
       "  <tbody>\n",
       "    <tr>\n",
       "      <th>8490</th>\n",
       "      <td>check status in purchasing</td>\n",
       "      <td>please contact ed pasgryowski (pasgryo) about ...</td>\n",
       "      <td>mpihysnw wrctgoan</td>\n",
       "      <td>GRP_29</td>\n",
       "    </tr>\n",
       "    <tr>\n",
       "      <th>8491</th>\n",
       "      <td>vpn for laptop</td>\n",
       "      <td>\\n\\nreceived from: jxgobwrm.qkugdipo@gmail.com...</td>\n",
       "      <td>jxgobwrm qkugdipo</td>\n",
       "      <td>GRP_34</td>\n",
       "    </tr>\n",
       "    <tr>\n",
       "      <th>8492</th>\n",
       "      <td>hr_tool etime option not visitble</td>\n",
       "      <td>hr_tool etime option not visitble</td>\n",
       "      <td>tmopbken ibzougsd</td>\n",
       "      <td>GRP_0</td>\n",
       "    </tr>\n",
       "    <tr>\n",
       "      <th>8493</th>\n",
       "      <td>erp fi  - ob09, two accounts to be added</td>\n",
       "      <td>i am sorry, i have another two accounts that n...</td>\n",
       "      <td>ipwjorsc uboapexr</td>\n",
       "      <td>GRP_10</td>\n",
       "    </tr>\n",
       "    <tr>\n",
       "      <th>8494</th>\n",
       "      <td>tablet needs reimaged due to multiple issues w...</td>\n",
       "      <td>tablet needs reimaged due to multiple issues w...</td>\n",
       "      <td>cpmaidhj elbaqmtp</td>\n",
       "      <td>GRP_3</td>\n",
       "    </tr>\n",
       "    <tr>\n",
       "      <th>8495</th>\n",
       "      <td>emails not coming in from zz mail</td>\n",
       "      <td>_x000D_\\n_x000D_\\nreceived from: avglmrts.vhqm...</td>\n",
       "      <td>avglmrts vhqmtiua</td>\n",
       "      <td>GRP_29</td>\n",
       "    </tr>\n",
       "    <tr>\n",
       "      <th>8496</th>\n",
       "      <td>telephony_software issue</td>\n",
       "      <td>telephony_software issue</td>\n",
       "      <td>rbozivdq gmlhrtvp</td>\n",
       "      <td>GRP_0</td>\n",
       "    </tr>\n",
       "    <tr>\n",
       "      <th>8497</th>\n",
       "      <td>vip2: windows password reset for tifpdchb pedx...</td>\n",
       "      <td>vip2: windows password reset for tifpdchb pedx...</td>\n",
       "      <td>oybwdsgx oxyhwrfz</td>\n",
       "      <td>GRP_0</td>\n",
       "    </tr>\n",
       "    <tr>\n",
       "      <th>8498</th>\n",
       "      <td>machine nÃ£o estÃ¡ funcionando</td>\n",
       "      <td>i am unable to access the machine utilities to...</td>\n",
       "      <td>ufawcgob aowhxjky</td>\n",
       "      <td>GRP_62</td>\n",
       "    </tr>\n",
       "    <tr>\n",
       "      <th>8499</th>\n",
       "      <td>an mehreren pc`s lassen sich verschiedene prgr...</td>\n",
       "      <td>an mehreren pc`s lassen sich verschiedene prgr...</td>\n",
       "      <td>kqvbrspl jyzoklfx</td>\n",
       "      <td>GRP_49</td>\n",
       "    </tr>\n",
       "  </tbody>\n",
       "</table>\n",
       "</div>"
      ],
      "text/plain": [
       "                                      Short description  \\\n",
       "8490                         check status in purchasing   \n",
       "8491                                     vpn for laptop   \n",
       "8492                 hr_tool etime option not visitble    \n",
       "8493           erp fi  - ob09, two accounts to be added   \n",
       "8494  tablet needs reimaged due to multiple issues w...   \n",
       "8495                  emails not coming in from zz mail   \n",
       "8496                           telephony_software issue   \n",
       "8497  vip2: windows password reset for tifpdchb pedx...   \n",
       "8498                     machine nÃ£o estÃ¡ funcionando   \n",
       "8499  an mehreren pc`s lassen sich verschiedene prgr...   \n",
       "\n",
       "                                            Description             Caller  \\\n",
       "8490  please contact ed pasgryowski (pasgryo) about ...  mpihysnw wrctgoan   \n",
       "8491  \\n\\nreceived from: jxgobwrm.qkugdipo@gmail.com...  jxgobwrm qkugdipo   \n",
       "8492                 hr_tool etime option not visitble   tmopbken ibzougsd   \n",
       "8493  i am sorry, i have another two accounts that n...  ipwjorsc uboapexr   \n",
       "8494  tablet needs reimaged due to multiple issues w...  cpmaidhj elbaqmtp   \n",
       "8495  _x000D_\\n_x000D_\\nreceived from: avglmrts.vhqm...  avglmrts vhqmtiua   \n",
       "8496                           telephony_software issue  rbozivdq gmlhrtvp   \n",
       "8497  vip2: windows password reset for tifpdchb pedx...  oybwdsgx oxyhwrfz   \n",
       "8498  i am unable to access the machine utilities to...  ufawcgob aowhxjky   \n",
       "8499  an mehreren pc`s lassen sich verschiedene prgr...  kqvbrspl jyzoklfx   \n",
       "\n",
       "     Assignment group  \n",
       "8490           GRP_29  \n",
       "8491           GRP_34  \n",
       "8492            GRP_0  \n",
       "8493           GRP_10  \n",
       "8494            GRP_3  \n",
       "8495           GRP_29  \n",
       "8496            GRP_0  \n",
       "8497            GRP_0  \n",
       "8498           GRP_62  \n",
       "8499           GRP_49  "
      ]
     },
     "execution_count": 39,
     "metadata": {},
     "output_type": "execute_result"
    }
   ],
   "source": [
    "data.tail(10)"
   ]
  },
  {
   "cell_type": "code",
   "execution_count": 40,
   "metadata": {},
   "outputs": [
    {
     "data": {
      "text/plain": [
       "74"
      ]
     },
     "execution_count": 40,
     "metadata": {},
     "output_type": "execute_result"
    }
   ],
   "source": [
    "data['Assignment group'].nunique()"
   ]
  },
  {
   "cell_type": "code",
   "execution_count": 41,
   "metadata": {},
   "outputs": [
    {
     "data": {
      "text/plain": [
       "array(['GRP_0', 'GRP_1', 'GRP_3', 'GRP_4', 'GRP_5', 'GRP_6', 'GRP_7',\n",
       "       'GRP_8', 'GRP_9', 'GRP_10', 'GRP_11', 'GRP_12', 'GRP_13', 'GRP_14',\n",
       "       'GRP_15', 'GRP_16', 'GRP_17', 'GRP_18', 'GRP_19', 'GRP_2',\n",
       "       'GRP_20', 'GRP_21', 'GRP_22', 'GRP_23', 'GRP_24', 'GRP_25',\n",
       "       'GRP_26', 'GRP_27', 'GRP_28', 'GRP_29', 'GRP_30', 'GRP_31',\n",
       "       'GRP_33', 'GRP_34', 'GRP_35', 'GRP_36', 'GRP_37', 'GRP_38',\n",
       "       'GRP_39', 'GRP_40', 'GRP_41', 'GRP_42', 'GRP_43', 'GRP_44',\n",
       "       'GRP_45', 'GRP_46', 'GRP_47', 'GRP_48', 'GRP_49', 'GRP_50',\n",
       "       'GRP_51', 'GRP_52', 'GRP_53', 'GRP_54', 'GRP_55', 'GRP_56',\n",
       "       'GRP_57', 'GRP_58', 'GRP_59', 'GRP_60', 'GRP_61', 'GRP_32',\n",
       "       'GRP_62', 'GRP_63', 'GRP_64', 'GRP_65', 'GRP_66', 'GRP_67',\n",
       "       'GRP_68', 'GRP_69', 'GRP_70', 'GRP_71', 'GRP_72', 'GRP_73'],\n",
       "      dtype=object)"
      ]
     },
     "execution_count": 41,
     "metadata": {},
     "output_type": "execute_result"
    }
   ],
   "source": [
    "data['Assignment group'].unique()"
   ]
  },
  {
   "cell_type": "code",
   "execution_count": 52,
   "metadata": {},
   "outputs": [],
   "source": [
    "number_of_tickets = data['Assignment group'].value_counts()"
   ]
  },
  {
   "cell_type": "code",
   "execution_count": 53,
   "metadata": {},
   "outputs": [
    {
     "data": {
      "text/plain": [
       "GRP_0     3968\n",
       "GRP_8      661\n",
       "GRP_24     289\n",
       "GRP_12     257\n",
       "GRP_9      252\n",
       "          ... \n",
       "GRP_64       1\n",
       "GRP_67       1\n",
       "GRP_35       1\n",
       "GRP_70       1\n",
       "GRP_73       1\n",
       "Name: Assignment group, Length: 74, dtype: int64"
      ]
     },
     "execution_count": 53,
     "metadata": {},
     "output_type": "execute_result"
    }
   ],
   "source": [
    "number_of_tickets"
   ]
  },
  {
   "cell_type": "code",
   "execution_count": 56,
   "metadata": {},
   "outputs": [
    {
     "data": {
      "image/png": "[encoded data removed]",
      "text/plain": [
       "<Figure size 1440x360 with 1 Axes>"
      ]
     },
     "metadata": {
      "needs_background": "light"
     },
     "output_type": "display_data"
    }
   ],
   "source": [
    "threshold = 50\n",
    "considered_ticket = number_of_tickets>threshold\n",
    "val_cnt = number_of_tickets.loc[~considered_ticket].sum()\n",
    "number_of_tickets = number_of_tickets.loc[considered_ticket]\n",
    "number_of_tickets['other'] = val_cnt\n",
    "number_of_tickets.plot(kind='bar')\n",
    "plt.xticks(rotation=25)\n",
    "plt.show()"
   ]
  },
  {
   "cell_type": "code",
   "execution_count": 57,
   "metadata": {},
   "outputs": [],
   "source": [
    "data = data.drop(['Short description', 'Caller'], axis=1)"
   ]
  },
  {
   "cell_type": "code",
   "execution_count": 58,
   "metadata": {},
   "outputs": [
    {
     "data": {
      "text/html": [
       "<div>\n",
       "<style scoped>\n",
       "    .dataframe tbody tr th:only-of-type {\n",
       "        vertical-align: middle;\n",
       "    }\n",
       "\n",
       "    .dataframe tbody tr th {\n",
       "        vertical-align: top;\n",
       "    }\n",
       "\n",
       "    .dataframe thead th {\n",
       "        text-align: right;\n",
       "    }\n",
       "</style>\n",
       "<table border=\"1\" class=\"dataframe\">\n",
       "  <thead>\n",
       "    <tr style=\"text-align: right;\">\n",
       "      <th></th>\n",
       "      <th>Description</th>\n",
       "      <th>Assignment group</th>\n",
       "    </tr>\n",
       "  </thead>\n",
       "  <tbody>\n",
       "    <tr>\n",
       "      <th>0</th>\n",
       "      <td>-verified user details.(employee# &amp; manager na...</td>\n",
       "      <td>GRP_0</td>\n",
       "    </tr>\n",
       "    <tr>\n",
       "      <th>1</th>\n",
       "      <td>_x000D_\\n_x000D_\\nreceived from: hmjdrvpb.komu...</td>\n",
       "      <td>GRP_0</td>\n",
       "    </tr>\n",
       "    <tr>\n",
       "      <th>2</th>\n",
       "      <td>_x000D_\\n_x000D_\\nreceived from: eylqgodm.ybqk...</td>\n",
       "      <td>GRP_0</td>\n",
       "    </tr>\n",
       "    <tr>\n",
       "      <th>3</th>\n",
       "      <td>unable to access hr_tool page</td>\n",
       "      <td>GRP_0</td>\n",
       "    </tr>\n",
       "    <tr>\n",
       "      <th>4</th>\n",
       "      <td>skype error</td>\n",
       "      <td>GRP_0</td>\n",
       "    </tr>\n",
       "  </tbody>\n",
       "</table>\n",
       "</div>"
      ],
      "text/plain": [
       "                                         Description Assignment group\n",
       "0  -verified user details.(employee# & manager na...            GRP_0\n",
       "1  _x000D_\\n_x000D_\\nreceived from: hmjdrvpb.komu...            GRP_0\n",
       "2  _x000D_\\n_x000D_\\nreceived from: eylqgodm.ybqk...            GRP_0\n",
       "3                      unable to access hr_tool page            GRP_0\n",
       "4                                       skype error             GRP_0"
      ]
     },
     "execution_count": 58,
     "metadata": {},
     "output_type": "execute_result"
    }
   ],
   "source": [
    "data.head()"
   ]
  },
  {
   "cell_type": "code",
   "execution_count": 59,
   "metadata": {},
   "outputs": [
    {
     "name": "stderr",
     "output_type": "stream",
     "text": [
      "[nltk_data] Downloading package stopwords to\n",
      "[nltk_data]     C:\\Users\\admin\\AppData\\Roaming\\nltk_data...\n",
      "[nltk_data]   Unzipping corpora\\stopwords.zip.\n"
     ]
    },
    {
     "data": {
      "text/plain": [
       "True"
      ]
     },
     "execution_count": 59,
     "metadata": {},
     "output_type": "execute_result"
    }
   ],
   "source": [
    "import nltk\n",
    "nltk.download('stopwords')"
   ]
  },
  {
   "cell_type": "code",
   "execution_count": 60,
   "metadata": {},
   "outputs": [
    {
     "data": {
      "text/plain": [
       "'!\"#$%&\\'()*+,-./:;<=>?@[\\\\]^_`{|}~'"
      ]
     },
     "execution_count": 60,
     "metadata": {},
     "output_type": "execute_result"
    }
   ],
   "source": [
    "import string\n",
    "string.punctuation"
   ]
  },
  {
   "cell_type": "code",
   "execution_count": 62,
   "metadata": {},
   "outputs": [
    {
     "data": {
      "text/html": [
       "<div>\n",
       "<style scoped>\n",
       "    .dataframe tbody tr th:only-of-type {\n",
       "        vertical-align: middle;\n",
       "    }\n",
       "\n",
       "    .dataframe tbody tr th {\n",
       "        vertical-align: top;\n",
       "    }\n",
       "\n",
       "    .dataframe thead th {\n",
       "        text-align: right;\n",
       "    }\n",
       "</style>\n",
       "<table border=\"1\" class=\"dataframe\">\n",
       "  <thead>\n",
       "    <tr style=\"text-align: right;\">\n",
       "      <th></th>\n",
       "      <th>Description</th>\n",
       "      <th>Assignment group</th>\n",
       "      <th>Description with no punct</th>\n",
       "    </tr>\n",
       "  </thead>\n",
       "  <tbody>\n",
       "    <tr>\n",
       "      <th>0</th>\n",
       "      <td>-verified user details.(employee# &amp; manager na...</td>\n",
       "      <td>GRP_0</td>\n",
       "      <td>verified user detailsemployee  manager namex00...</td>\n",
       "    </tr>\n",
       "    <tr>\n",
       "      <th>1</th>\n",
       "      <td>_x000D_\\n_x000D_\\nreceived from: hmjdrvpb.komu...</td>\n",
       "      <td>GRP_0</td>\n",
       "      <td>x000D\\nx000D\\nreceived from hmjdrvpbkomuaywngm...</td>\n",
       "    </tr>\n",
       "    <tr>\n",
       "      <th>2</th>\n",
       "      <td>_x000D_\\n_x000D_\\nreceived from: eylqgodm.ybqk...</td>\n",
       "      <td>GRP_0</td>\n",
       "      <td>x000D\\nx000D\\nreceived from eylqgodmybqkwiamgm...</td>\n",
       "    </tr>\n",
       "    <tr>\n",
       "      <th>3</th>\n",
       "      <td>unable to access hr_tool page</td>\n",
       "      <td>GRP_0</td>\n",
       "      <td>unable to access hrtool page</td>\n",
       "    </tr>\n",
       "    <tr>\n",
       "      <th>4</th>\n",
       "      <td>skype error</td>\n",
       "      <td>GRP_0</td>\n",
       "      <td>skype error</td>\n",
       "    </tr>\n",
       "  </tbody>\n",
       "</table>\n",
       "</div>"
      ],
      "text/plain": [
       "                                         Description Assignment group  \\\n",
       "0  -verified user details.(employee# & manager na...            GRP_0   \n",
       "1  _x000D_\\n_x000D_\\nreceived from: hmjdrvpb.komu...            GRP_0   \n",
       "2  _x000D_\\n_x000D_\\nreceived from: eylqgodm.ybqk...            GRP_0   \n",
       "3                      unable to access hr_tool page            GRP_0   \n",
       "4                                       skype error             GRP_0   \n",
       "\n",
       "                           Description with no punct  \n",
       "0  verified user detailsemployee  manager namex00...  \n",
       "1  x000D\\nx000D\\nreceived from hmjdrvpbkomuaywngm...  \n",
       "2  x000D\\nx000D\\nreceived from eylqgodmybqkwiamgm...  \n",
       "3                       unable to access hrtool page  \n",
       "4                                       skype error   "
      ]
     },
     "execution_count": 62,
     "metadata": {},
     "output_type": "execute_result"
    }
   ],
   "source": [
    "def remove_punctuation(text):\n",
    "    no_punct=[words for words in text if words not in string.punctuation]\n",
    "    words_wo_punct=''.join(no_punct)\n",
    "    return words_wo_punct\n",
    "data['Description with no punct']=data['Description'].apply(lambda x: remove_punctuation(x))\n",
    "data.head()"
   ]
  },
  {
   "cell_type": "code",
   "execution_count": 64,
   "metadata": {},
   "outputs": [
    {
     "data": {
      "text/html": [
       "<div>\n",
       "<style scoped>\n",
       "    .dataframe tbody tr th:only-of-type {\n",
       "        vertical-align: middle;\n",
       "    }\n",
       "\n",
       "    .dataframe tbody tr th {\n",
       "        vertical-align: top;\n",
       "    }\n",
       "\n",
       "    .dataframe thead th {\n",
       "        text-align: right;\n",
       "    }\n",
       "</style>\n",
       "<table border=\"1\" class=\"dataframe\">\n",
       "  <thead>\n",
       "    <tr style=\"text-align: right;\">\n",
       "      <th></th>\n",
       "      <th>Description</th>\n",
       "      <th>Assignment group</th>\n",
       "      <th>Description with no punct</th>\n",
       "      <th>Description token</th>\n",
       "    </tr>\n",
       "  </thead>\n",
       "  <tbody>\n",
       "    <tr>\n",
       "      <th>0</th>\n",
       "      <td>-verified user details.(employee# &amp; manager na...</td>\n",
       "      <td>GRP_0</td>\n",
       "      <td>verified user detailsemployee  manager namex00...</td>\n",
       "      <td>[verified, user, detailsemployee, manager, nam...</td>\n",
       "    </tr>\n",
       "    <tr>\n",
       "      <th>1</th>\n",
       "      <td>_x000D_\\n_x000D_\\nreceived from: hmjdrvpb.komu...</td>\n",
       "      <td>GRP_0</td>\n",
       "      <td>x000D\\nx000D\\nreceived from hmjdrvpbkomuaywngm...</td>\n",
       "      <td>[x000d, x000d, received, from, hmjdrvpbkomuayw...</td>\n",
       "    </tr>\n",
       "    <tr>\n",
       "      <th>2</th>\n",
       "      <td>_x000D_\\n_x000D_\\nreceived from: eylqgodm.ybqk...</td>\n",
       "      <td>GRP_0</td>\n",
       "      <td>x000D\\nx000D\\nreceived from eylqgodmybqkwiamgm...</td>\n",
       "      <td>[x000d, x000d, received, from, eylqgodmybqkwia...</td>\n",
       "    </tr>\n",
       "    <tr>\n",
       "      <th>3</th>\n",
       "      <td>unable to access hr_tool page</td>\n",
       "      <td>GRP_0</td>\n",
       "      <td>unable to access hrtool page</td>\n",
       "      <td>[unable, to, access, hrtool, page]</td>\n",
       "    </tr>\n",
       "    <tr>\n",
       "      <th>4</th>\n",
       "      <td>skype error</td>\n",
       "      <td>GRP_0</td>\n",
       "      <td>skype error</td>\n",
       "      <td>[skype, error, ]</td>\n",
       "    </tr>\n",
       "  </tbody>\n",
       "</table>\n",
       "</div>"
      ],
      "text/plain": [
       "                                         Description Assignment group  \\\n",
       "0  -verified user details.(employee# & manager na...            GRP_0   \n",
       "1  _x000D_\\n_x000D_\\nreceived from: hmjdrvpb.komu...            GRP_0   \n",
       "2  _x000D_\\n_x000D_\\nreceived from: eylqgodm.ybqk...            GRP_0   \n",
       "3                      unable to access hr_tool page            GRP_0   \n",
       "4                                       skype error             GRP_0   \n",
       "\n",
       "                           Description with no punct  \\\n",
       "0  verified user detailsemployee  manager namex00...   \n",
       "1  x000D\\nx000D\\nreceived from hmjdrvpbkomuaywngm...   \n",
       "2  x000D\\nx000D\\nreceived from eylqgodmybqkwiamgm...   \n",
       "3                       unable to access hrtool page   \n",
       "4                                       skype error    \n",
       "\n",
       "                                   Description token  \n",
       "0  [verified, user, detailsemployee, manager, nam...  \n",
       "1  [x000d, x000d, received, from, hmjdrvpbkomuayw...  \n",
       "2  [x000d, x000d, received, from, eylqgodmybqkwia...  \n",
       "3                 [unable, to, access, hrtool, page]  \n",
       "4                                   [skype, error, ]  "
      ]
     },
     "execution_count": 64,
     "metadata": {},
     "output_type": "execute_result"
    }
   ],
   "source": [
    "import re\n",
    "def tokenize(text):\n",
    "    split=re.split(\"\\W+\",text) \n",
    "    return split\n",
    "data['Description token']=data['Description with no punct'].apply(lambda x: tokenize(x.lower()))\n",
    "data.head()"
   ]
  },
  {
   "cell_type": "code",
   "execution_count": 65,
   "metadata": {},
   "outputs": [
    {
     "name": "stdout",
     "output_type": "stream",
     "text": [
      "['i', 'me', 'my', 'myself', 'we', 'our', 'ours', 'ourselves', 'you', \"you're\", \"you've\", \"you'll\", \"you'd\", 'your', 'yours', 'yourself', 'yourselves', 'he', 'him', 'his', 'himself', 'she', \"she's\", 'her', 'hers', 'herself', 'it', \"it's\", 'its', 'itself', 'they', 'them', 'their', 'theirs', 'themselves', 'what', 'which', 'who', 'whom', 'this', 'that', \"that'll\", 'these', 'those', 'am', 'is', 'are', 'was', 'were', 'be']\n"
     ]
    }
   ],
   "source": [
    "stopword = nltk.corpus.stopwords.words('english')\n",
    "print(stopword[:50])"
   ]
  },
  {
   "cell_type": "code",
   "execution_count": 66,
   "metadata": {},
   "outputs": [
    {
     "data": {
      "text/html": [
       "<div>\n",
       "<style scoped>\n",
       "    .dataframe tbody tr th:only-of-type {\n",
       "        vertical-align: middle;\n",
       "    }\n",
       "\n",
       "    .dataframe tbody tr th {\n",
       "        vertical-align: top;\n",
       "    }\n",
       "\n",
       "    .dataframe thead th {\n",
       "        text-align: right;\n",
       "    }\n",
       "</style>\n",
       "<table border=\"1\" class=\"dataframe\">\n",
       "  <thead>\n",
       "    <tr style=\"text-align: right;\">\n",
       "      <th></th>\n",
       "      <th>Description</th>\n",
       "      <th>Assignment group</th>\n",
       "      <th>Description with no punct</th>\n",
       "      <th>Description token</th>\n",
       "      <th>Decription without stopwords</th>\n",
       "    </tr>\n",
       "  </thead>\n",
       "  <tbody>\n",
       "    <tr>\n",
       "      <th>0</th>\n",
       "      <td>-verified user details.(employee# &amp; manager na...</td>\n",
       "      <td>GRP_0</td>\n",
       "      <td>verified user detailsemployee  manager namex00...</td>\n",
       "      <td>[verified, user, detailsemployee, manager, nam...</td>\n",
       "      <td>[verified, user, detailsemployee, manager, nam...</td>\n",
       "    </tr>\n",
       "    <tr>\n",
       "      <th>1</th>\n",
       "      <td>_x000D_\\n_x000D_\\nreceived from: hmjdrvpb.komu...</td>\n",
       "      <td>GRP_0</td>\n",
       "      <td>x000D\\nx000D\\nreceived from hmjdrvpbkomuaywngm...</td>\n",
       "      <td>[x000d, x000d, received, from, hmjdrvpbkomuayw...</td>\n",
       "      <td>[x000d, x000d, received, hmjdrvpbkomuaywngmail...</td>\n",
       "    </tr>\n",
       "    <tr>\n",
       "      <th>2</th>\n",
       "      <td>_x000D_\\n_x000D_\\nreceived from: eylqgodm.ybqk...</td>\n",
       "      <td>GRP_0</td>\n",
       "      <td>x000D\\nx000D\\nreceived from eylqgodmybqkwiamgm...</td>\n",
       "      <td>[x000d, x000d, received, from, eylqgodmybqkwia...</td>\n",
       "      <td>[x000d, x000d, received, eylqgodmybqkwiamgmail...</td>\n",
       "    </tr>\n",
       "    <tr>\n",
       "      <th>3</th>\n",
       "      <td>unable to access hr_tool page</td>\n",
       "      <td>GRP_0</td>\n",
       "      <td>unable to access hrtool page</td>\n",
       "      <td>[unable, to, access, hrtool, page]</td>\n",
       "      <td>[unable, access, hrtool, page]</td>\n",
       "    </tr>\n",
       "    <tr>\n",
       "      <th>4</th>\n",
       "      <td>skype error</td>\n",
       "      <td>GRP_0</td>\n",
       "      <td>skype error</td>\n",
       "      <td>[skype, error, ]</td>\n",
       "      <td>[skype, error, ]</td>\n",
       "    </tr>\n",
       "  </tbody>\n",
       "</table>\n",
       "</div>"
      ],
      "text/plain": [
       "                                         Description Assignment group  \\\n",
       "0  -verified user details.(employee# & manager na...            GRP_0   \n",
       "1  _x000D_\\n_x000D_\\nreceived from: hmjdrvpb.komu...            GRP_0   \n",
       "2  _x000D_\\n_x000D_\\nreceived from: eylqgodm.ybqk...            GRP_0   \n",
       "3                      unable to access hr_tool page            GRP_0   \n",
       "4                                       skype error             GRP_0   \n",
       "\n",
       "                           Description with no punct  \\\n",
       "0  verified user detailsemployee  manager namex00...   \n",
       "1  x000D\\nx000D\\nreceived from hmjdrvpbkomuaywngm...   \n",
       "2  x000D\\nx000D\\nreceived from eylqgodmybqkwiamgm...   \n",
       "3                       unable to access hrtool page   \n",
       "4                                       skype error    \n",
       "\n",
       "                                   Description token  \\\n",
       "0  [verified, user, detailsemployee, manager, nam...   \n",
       "1  [x000d, x000d, received, from, hmjdrvpbkomuayw...   \n",
       "2  [x000d, x000d, received, from, eylqgodmybqkwia...   \n",
       "3                 [unable, to, access, hrtool, page]   \n",
       "4                                   [skype, error, ]   \n",
       "\n",
       "                        Decription without stopwords  \n",
       "0  [verified, user, detailsemployee, manager, nam...  \n",
       "1  [x000d, x000d, received, hmjdrvpbkomuaywngmail...  \n",
       "2  [x000d, x000d, received, eylqgodmybqkwiamgmail...  \n",
       "3                     [unable, access, hrtool, page]  \n",
       "4                                   [skype, error, ]  "
      ]
     },
     "execution_count": 66,
     "metadata": {},
     "output_type": "execute_result"
    }
   ],
   "source": [
    "def remove_stopwords(text):\n",
    "    text=[word for word in text if word not in stopword]\n",
    "    return text\n",
    "data['Decription without stopwords'] = data['Description token'].apply(lambda x: remove_stopwords(x))\n",
    "data.head()"
   ]
  },
  {
   "cell_type": "code",
   "execution_count": null,
   "metadata": {},
   "outputs": [],
   "source": []
  }
 ],
 "metadata": {
  "kernelspec": {
   "display_name": "Python 3",
   "language": "python",
   "name": "python3"
  },
  "language_info": {
   "codemirror_mode": {
    "name": "ipython",
    "version": 3
   },
   "file_extension": ".py",
   "mimetype": "text/x-python",
   "name": "python",
   "nbconvert_exporter": "python",
   "pygments_lexer": "ipython3",
   "version": "3.8.5"
  }
 },
 "nbformat": 4,
 "nbformat_minor": 4
}
