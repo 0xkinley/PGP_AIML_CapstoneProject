{
 "cells": [
  {
   "cell_type": "code",
   "execution_count": 2,
   "id": "4913f2ba-7e3b-4b6f-9205-6a013e38a95b",
   "metadata": {},
   "outputs": [],
   "source": [
    "import pandas as pd \n",
    "import numpy as np "
   ]
  },
  {
   "cell_type": "code",
   "execution_count": 3,
   "id": "d8cf8975-496d-48dc-9427-1610b26977bf",
   "metadata": {},
   "outputs": [],
   "source": [
    "df = pd.read_csv(\"inputdata.csv\")"
   ]
  },
  {
   "cell_type": "code",
   "execution_count": 4,
   "id": "79718afc-f019-4afc-b435-870221d804ac",
   "metadata": {},
   "outputs": [
    {
     "data": {
      "text/html": [
       "<div>\n",
       "<style scoped>\n",
       "    .dataframe tbody tr th:only-of-type {\n",
       "        vertical-align: middle;\n",
       "    }\n",
       "\n",
       "    .dataframe tbody tr th {\n",
       "        vertical-align: top;\n",
       "    }\n",
       "\n",
       "    .dataframe thead th {\n",
       "        text-align: right;\n",
       "    }\n",
       "</style>\n",
       "<table border=\"1\" class=\"dataframe\">\n",
       "  <thead>\n",
       "    <tr style=\"text-align: right;\">\n",
       "      <th></th>\n",
       "      <th>Short description</th>\n",
       "      <th>Description</th>\n",
       "      <th>Caller</th>\n",
       "      <th>Assignment group</th>\n",
       "    </tr>\n",
       "  </thead>\n",
       "  <tbody>\n",
       "    <tr>\n",
       "      <th>0</th>\n",
       "      <td>login issue</td>\n",
       "      <td>-verified user details.(employee# &amp; manager na...</td>\n",
       "      <td>spxjnwir pjlcoqds</td>\n",
       "      <td>GRP_0</td>\n",
       "    </tr>\n",
       "    <tr>\n",
       "      <th>1</th>\n",
       "      <td>outlook</td>\n",
       "      <td>\\r\\n\\r\\nreceived from: hmjdrvpb.komuaywn@gmail...</td>\n",
       "      <td>hmjdrvpb komuaywn</td>\n",
       "      <td>GRP_0</td>\n",
       "    </tr>\n",
       "    <tr>\n",
       "      <th>2</th>\n",
       "      <td>cant log in to vpn</td>\n",
       "      <td>\\r\\n\\r\\nreceived from: eylqgodm.ybqkwiam@gmail...</td>\n",
       "      <td>eylqgodm ybqkwiam</td>\n",
       "      <td>GRP_0</td>\n",
       "    </tr>\n",
       "    <tr>\n",
       "      <th>3</th>\n",
       "      <td>unable to access hr_tool page</td>\n",
       "      <td>unable to access hr_tool page</td>\n",
       "      <td>xbkucsvz gcpydteq</td>\n",
       "      <td>GRP_0</td>\n",
       "    </tr>\n",
       "    <tr>\n",
       "      <th>4</th>\n",
       "      <td>skype error</td>\n",
       "      <td>skype error</td>\n",
       "      <td>owlgqjme qhcozdfx</td>\n",
       "      <td>GRP_0</td>\n",
       "    </tr>\n",
       "    <tr>\n",
       "      <th>...</th>\n",
       "      <td>...</td>\n",
       "      <td>...</td>\n",
       "      <td>...</td>\n",
       "      <td>...</td>\n",
       "    </tr>\n",
       "    <tr>\n",
       "      <th>95</th>\n",
       "      <td>job SID_26cold failed in job_scheduler at: 10/...</td>\n",
       "      <td>received from: monitoring_tool@company.com\\r\\n...</td>\n",
       "      <td>bpctwhsn kzqsbmtp</td>\n",
       "      <td>GRP_5</td>\n",
       "    </tr>\n",
       "    <tr>\n",
       "      <th>96</th>\n",
       "      <td>job SID_35cold failed in job_scheduler at: 10/...</td>\n",
       "      <td>received from: monitoring_tool@company.com\\r\\n...</td>\n",
       "      <td>bpctwhsn kzqsbmtp</td>\n",
       "      <td>GRP_5</td>\n",
       "    </tr>\n",
       "    <tr>\n",
       "      <th>97</th>\n",
       "      <td>amssm00345: c:\\ label:sys-amssm00345 94ef9088 ...</td>\n",
       "      <td>amssm00345: c:\\ label:sys-amssm00345 94ef9088 ...</td>\n",
       "      <td>jyoqwxhz clhxsoqy</td>\n",
       "      <td>GRP_12</td>\n",
       "    </tr>\n",
       "    <tr>\n",
       "      <th>98</th>\n",
       "      <td>unable to view payslips from hr_tool e time</td>\n",
       "      <td>unable to view payslips from hr_tool e time</td>\n",
       "      <td>vzrbocfl wxtpoyez</td>\n",
       "      <td>GRP_0</td>\n",
       "    </tr>\n",
       "    <tr>\n",
       "      <th>99</th>\n",
       "      <td>password expiry tomorrow</td>\n",
       "      <td>\\n\\nreceived from: ecprjbod.litmjwsy@gmail.com...</td>\n",
       "      <td>ecprjbod litmjwsy</td>\n",
       "      <td>GRP_0</td>\n",
       "    </tr>\n",
       "  </tbody>\n",
       "</table>\n",
       "<p>100 rows × 4 columns</p>\n",
       "</div>"
      ],
      "text/plain": [
       "                                    Short description  \\\n",
       "0                                         login issue   \n",
       "1                                             outlook   \n",
       "2                                  cant log in to vpn   \n",
       "3                       unable to access hr_tool page   \n",
       "4                                        skype error    \n",
       "..                                                ...   \n",
       "95  job SID_26cold failed in job_scheduler at: 10/...   \n",
       "96  job SID_35cold failed in job_scheduler at: 10/...   \n",
       "97  amssm00345: c:\\ label:sys-amssm00345 94ef9088 ...   \n",
       "98        unable to view payslips from hr_tool e time   \n",
       "99                           password expiry tomorrow   \n",
       "\n",
       "                                          Description             Caller  \\\n",
       "0   -verified user details.(employee# & manager na...  spxjnwir pjlcoqds   \n",
       "1   \\r\\n\\r\\nreceived from: hmjdrvpb.komuaywn@gmail...  hmjdrvpb komuaywn   \n",
       "2   \\r\\n\\r\\nreceived from: eylqgodm.ybqkwiam@gmail...  eylqgodm ybqkwiam   \n",
       "3                       unable to access hr_tool page  xbkucsvz gcpydteq   \n",
       "4                                        skype error   owlgqjme qhcozdfx   \n",
       "..                                                ...                ...   \n",
       "95  received from: monitoring_tool@company.com\\r\\n...  bpctwhsn kzqsbmtp   \n",
       "96  received from: monitoring_tool@company.com\\r\\n...  bpctwhsn kzqsbmtp   \n",
       "97  amssm00345: c:\\ label:sys-amssm00345 94ef9088 ...  jyoqwxhz clhxsoqy   \n",
       "98        unable to view payslips from hr_tool e time  vzrbocfl wxtpoyez   \n",
       "99  \\n\\nreceived from: ecprjbod.litmjwsy@gmail.com...  ecprjbod litmjwsy   \n",
       "\n",
       "   Assignment group  \n",
       "0             GRP_0  \n",
       "1             GRP_0  \n",
       "2             GRP_0  \n",
       "3             GRP_0  \n",
       "4             GRP_0  \n",
       "..              ...  \n",
       "95            GRP_5  \n",
       "96            GRP_5  \n",
       "97           GRP_12  \n",
       "98            GRP_0  \n",
       "99            GRP_0  \n",
       "\n",
       "[100 rows x 4 columns]"
      ]
     },
     "execution_count": 4,
     "metadata": {},
     "output_type": "execute_result"
    }
   ],
   "source": [
    "df.head(100)"
   ]
  },
  {
   "cell_type": "code",
   "execution_count": 11,
   "id": "02aaae35-06ce-4c22-bb75-81173753b645",
   "metadata": {},
   "outputs": [
    {
     "name": "stdout",
     "output_type": "stream",
     "text": [
      "<class 'pandas.core.frame.DataFrame'>\n",
      "Int64Index: 7893 entries, 0 to 8499\n",
      "Data columns (total 4 columns):\n",
      " #   Column             Non-Null Count  Dtype \n",
      "---  ------             --------------  ----- \n",
      " 0   Short description  7891 non-null   object\n",
      " 1   Description        7892 non-null   object\n",
      " 2   Caller             7893 non-null   object\n",
      " 3   Assignment group   7893 non-null   object\n",
      "dtypes: object(4)\n",
      "memory usage: 308.3+ KB\n"
     ]
    }
   ],
   "source": [
    "df.info()"
   ]
  },
  {
   "cell_type": "code",
   "execution_count": null,
   "id": "06e75416-f3c2-4086-b252-d6e40a37c6bf",
   "metadata": {},
   "outputs": [],
   "source": []
  },
  {
   "cell_type": "code",
   "execution_count": 13,
   "id": "78be742e-bf68-4dc4-af64-41c19b96debd",
   "metadata": {},
   "outputs": [
    {
     "data": {
      "text/plain": [
       "(7893, 4)"
      ]
     },
     "execution_count": 13,
     "metadata": {},
     "output_type": "execute_result"
    }
   ],
   "source": [
    "df.shape"
   ]
  },
  {
   "cell_type": "code",
   "execution_count": 5,
   "id": "ba597938-5e3e-44a8-aece-467334146a5d",
   "metadata": {},
   "outputs": [],
   "source": [
    "df[df.duplicated(['Short description','Description'])]\n",
    "df.drop_duplicates(['Short description','Description'],inplace=True)"
   ]
  },
  {
   "cell_type": "code",
   "execution_count": 15,
   "id": "7ed4b6d3-494f-4163-874f-3d32e9c0c573",
   "metadata": {},
   "outputs": [
    {
     "data": {
      "text/plain": [
       "Index(['Short description', 'Description', 'Caller', 'Assignment group'], dtype='object')"
      ]
     },
     "execution_count": 15,
     "metadata": {},
     "output_type": "execute_result"
    }
   ],
   "source": [
    "df.columns"
   ]
  },
  {
   "cell_type": "code",
   "execution_count": 21,
   "id": "917bd52a-1764-4b85-9dac-2db7b3a8dd93",
   "metadata": {},
   "outputs": [
    {
     "data": {
      "text/html": [
       "<div>\n",
       "<style scoped>\n",
       "    .dataframe tbody tr th:only-of-type {\n",
       "        vertical-align: middle;\n",
       "    }\n",
       "\n",
       "    .dataframe tbody tr th {\n",
       "        vertical-align: top;\n",
       "    }\n",
       "\n",
       "    .dataframe thead th {\n",
       "        text-align: right;\n",
       "    }\n",
       "</style>\n",
       "<table border=\"1\" class=\"dataframe\">\n",
       "  <thead>\n",
       "    <tr style=\"text-align: right;\">\n",
       "      <th></th>\n",
       "      <th>Short description</th>\n",
       "      <th>Description</th>\n",
       "      <th>Caller</th>\n",
       "      <th>Assignment group</th>\n",
       "    </tr>\n",
       "  </thead>\n",
       "  <tbody>\n",
       "    <tr>\n",
       "      <th>2604</th>\n",
       "      <td>NaN</td>\n",
       "      <td>\\r\\n\\r\\nreceived from: ohdrnswl.rezuibdt@gmail...</td>\n",
       "      <td>ohdrnswl rezuibdt</td>\n",
       "      <td>GRP_34</td>\n",
       "    </tr>\n",
       "    <tr>\n",
       "      <th>3383</th>\n",
       "      <td>NaN</td>\n",
       "      <td>\\r\\n-connected to the user system using teamvi...</td>\n",
       "      <td>qftpazns fxpnytmk</td>\n",
       "      <td>GRP_0</td>\n",
       "    </tr>\n",
       "    <tr>\n",
       "      <th>4395</th>\n",
       "      <td>i am locked out of skype</td>\n",
       "      <td>NaN</td>\n",
       "      <td>viyglzfo ajtfzpkb</td>\n",
       "      <td>GRP_0</td>\n",
       "    </tr>\n",
       "  </tbody>\n",
       "</table>\n",
       "</div>"
      ],
      "text/plain": [
       "             Short description  \\\n",
       "2604                       NaN   \n",
       "3383                       NaN   \n",
       "4395  i am locked out of skype   \n",
       "\n",
       "                                            Description             Caller  \\\n",
       "2604  \\r\\n\\r\\nreceived from: ohdrnswl.rezuibdt@gmail...  ohdrnswl rezuibdt   \n",
       "3383  \\r\\n-connected to the user system using teamvi...  qftpazns fxpnytmk   \n",
       "4395                                                NaN  viyglzfo ajtfzpkb   \n",
       "\n",
       "     Assignment group  \n",
       "2604           GRP_34  \n",
       "3383            GRP_0  \n",
       "4395            GRP_0  "
      ]
     },
     "execution_count": 21,
     "metadata": {},
     "output_type": "execute_result"
    }
   ],
   "source": [
    "df[df.isnull().any(axis=1)]"
   ]
  },
  {
   "cell_type": "code",
   "execution_count": 22,
   "id": "ae6fba16-f700-4140-b92c-489b03cf1d89",
   "metadata": {},
   "outputs": [
    {
     "data": {
      "text/html": [
       "<div>\n",
       "<style scoped>\n",
       "    .dataframe tbody tr th:only-of-type {\n",
       "        vertical-align: middle;\n",
       "    }\n",
       "\n",
       "    .dataframe tbody tr th {\n",
       "        vertical-align: top;\n",
       "    }\n",
       "\n",
       "    .dataframe thead th {\n",
       "        text-align: right;\n",
       "    }\n",
       "</style>\n",
       "<table border=\"1\" class=\"dataframe\">\n",
       "  <thead>\n",
       "    <tr style=\"text-align: right;\">\n",
       "      <th></th>\n",
       "      <th>Assignment group</th>\n",
       "      <th>counts</th>\n",
       "    </tr>\n",
       "  </thead>\n",
       "  <tbody>\n",
       "    <tr>\n",
       "      <th>0</th>\n",
       "      <td>GRP_0</td>\n",
       "      <td>3426</td>\n",
       "    </tr>\n",
       "    <tr>\n",
       "      <th>1</th>\n",
       "      <td>GRP_1</td>\n",
       "      <td>31</td>\n",
       "    </tr>\n",
       "    <tr>\n",
       "      <th>2</th>\n",
       "      <td>GRP_10</td>\n",
       "      <td>140</td>\n",
       "    </tr>\n",
       "    <tr>\n",
       "      <th>3</th>\n",
       "      <td>GRP_11</td>\n",
       "      <td>30</td>\n",
       "    </tr>\n",
       "    <tr>\n",
       "      <th>4</th>\n",
       "      <td>GRP_12</td>\n",
       "      <td>255</td>\n",
       "    </tr>\n",
       "    <tr>\n",
       "      <th>...</th>\n",
       "      <td>...</td>\n",
       "      <td>...</td>\n",
       "    </tr>\n",
       "    <tr>\n",
       "      <th>69</th>\n",
       "      <td>GRP_71</td>\n",
       "      <td>2</td>\n",
       "    </tr>\n",
       "    <tr>\n",
       "      <th>70</th>\n",
       "      <td>GRP_72</td>\n",
       "      <td>1</td>\n",
       "    </tr>\n",
       "    <tr>\n",
       "      <th>71</th>\n",
       "      <td>GRP_73</td>\n",
       "      <td>1</td>\n",
       "    </tr>\n",
       "    <tr>\n",
       "      <th>72</th>\n",
       "      <td>GRP_8</td>\n",
       "      <td>644</td>\n",
       "    </tr>\n",
       "    <tr>\n",
       "      <th>73</th>\n",
       "      <td>GRP_9</td>\n",
       "      <td>251</td>\n",
       "    </tr>\n",
       "  </tbody>\n",
       "</table>\n",
       "<p>74 rows × 2 columns</p>\n",
       "</div>"
      ],
      "text/plain": [
       "   Assignment group  counts\n",
       "0             GRP_0    3426\n",
       "1             GRP_1      31\n",
       "2            GRP_10     140\n",
       "3            GRP_11      30\n",
       "4            GRP_12     255\n",
       "..              ...     ...\n",
       "69           GRP_71       2\n",
       "70           GRP_72       1\n",
       "71           GRP_73       1\n",
       "72            GRP_8     644\n",
       "73            GRP_9     251\n",
       "\n",
       "[74 rows x 2 columns]"
      ]
     },
     "execution_count": 22,
     "metadata": {},
     "output_type": "execute_result"
    }
   ],
   "source": [
    "#group by categories \n",
    "df_grp = df.groupby(['Assignment group']).size().reset_index(name='counts')\n",
    "df_grp"
   ]
  },
  {
   "cell_type": "code",
   "execution_count": 24,
   "id": "f5fa51b7-93ad-4e0c-af43-121ec4c83fd6",
   "metadata": {},
   "outputs": [
    {
     "data": {
      "text/html": [
       "<div>\n",
       "<style scoped>\n",
       "    .dataframe tbody tr th:only-of-type {\n",
       "        vertical-align: middle;\n",
       "    }\n",
       "\n",
       "    .dataframe tbody tr th {\n",
       "        vertical-align: top;\n",
       "    }\n",
       "\n",
       "    .dataframe thead th {\n",
       "        text-align: right;\n",
       "    }\n",
       "</style>\n",
       "<table border=\"1\" class=\"dataframe\">\n",
       "  <thead>\n",
       "    <tr style=\"text-align: right;\">\n",
       "      <th></th>\n",
       "      <th>counts</th>\n",
       "    </tr>\n",
       "  </thead>\n",
       "  <tbody>\n",
       "    <tr>\n",
       "      <th>count</th>\n",
       "      <td>74.000000</td>\n",
       "    </tr>\n",
       "    <tr>\n",
       "      <th>mean</th>\n",
       "      <td>106.662162</td>\n",
       "    </tr>\n",
       "    <tr>\n",
       "      <th>std</th>\n",
       "      <td>403.193392</td>\n",
       "    </tr>\n",
       "    <tr>\n",
       "      <th>min</th>\n",
       "      <td>1.000000</td>\n",
       "    </tr>\n",
       "    <tr>\n",
       "      <th>25%</th>\n",
       "      <td>5.250000</td>\n",
       "    </tr>\n",
       "    <tr>\n",
       "      <th>50%</th>\n",
       "      <td>26.000000</td>\n",
       "    </tr>\n",
       "    <tr>\n",
       "      <th>75%</th>\n",
       "      <td>81.000000</td>\n",
       "    </tr>\n",
       "    <tr>\n",
       "      <th>max</th>\n",
       "      <td>3426.000000</td>\n",
       "    </tr>\n",
       "  </tbody>\n",
       "</table>\n",
       "</div>"
      ],
      "text/plain": [
       "            counts\n",
       "count    74.000000\n",
       "mean    106.662162\n",
       "std     403.193392\n",
       "min       1.000000\n",
       "25%       5.250000\n",
       "50%      26.000000\n",
       "75%      81.000000\n",
       "max    3426.000000"
      ]
     },
     "execution_count": 24,
     "metadata": {},
     "output_type": "execute_result"
    }
   ],
   "source": [
    "df_grp.describe()"
   ]
  },
  {
   "cell_type": "code",
   "execution_count": 6,
   "id": "1e244a70-151a-413d-9e16-1922e3475064",
   "metadata": {},
   "outputs": [
    {
     "data": {
      "text/plain": [
       "(7893, 4)"
      ]
     },
     "execution_count": 6,
     "metadata": {},
     "output_type": "execute_result"
    }
   ],
   "source": [
    "df.head()\n",
    "df.shape"
   ]
  },
  {
   "cell_type": "code",
   "execution_count": 10,
   "id": "93ac6083-b930-4410-ae79-d96d59ff3bbd",
   "metadata": {},
   "outputs": [
    {
     "data": {
      "image/png": "[encoded data removed]",
      "text/plain": [
       "<Figure size 1440x360 with 1 Axes>"
      ]
     },
     "metadata": {
      "needs_background": "light"
     },
     "output_type": "display_data"
    }
   ],
   "source": [
    "#Plot line graph and view counts of each tickets\n",
    "import seaborn as sns\n",
    "import matplotlib.pyplot as plt\n",
    "%matplotlib inline\n",
    "\n",
    "plt.subplots(figsize = (20,5))\n",
    "\n",
    "sns.countplot(x='Assignment group', data=df,order = df['Assignment group'].value_counts().index)\n",
    "plt.xlabel('Assignment Group') \n",
    "plt.ylabel('Count') \n",
    "plt.xticks(rotation=90)\n",
    "plt.title('Tickets Distribution')\n",
    "\n",
    "plt.show()"
   ]
  },
  {
   "cell_type": "code",
   "execution_count": 11,
   "id": "37c4bb7c-7421-4f31-bb50-8be9d4b43b85",
   "metadata": {},
   "outputs": [
    {
     "data": {
      "image/png": "[encoded data removed]",
      "text/plain": [
       "<Figure size 1440x360 with 1 Axes>"
      ]
     },
     "metadata": {
      "needs_background": "light"
     },
     "output_type": "display_data"
    }
   ],
   "source": [
    "# Lets skip GRP_0 and visualize the count\n",
    "\n",
    "temp_df1 = df[df['Assignment group'] != 'GRP_0']\n",
    "\n",
    "plt.subplots(figsize = (20,5))\n",
    "\n",
    "sns.countplot(x='Assignment group', data=temp_df1,order = temp_df1['Assignment group'].value_counts().index)\n",
    "plt.xlabel('Assignment Group') \n",
    "plt.ylabel('Count') \n",
    "plt.xticks(rotation=90)\n",
    "plt.title('Tickets Distribution - Excluding GRP_0')\n",
    "\n",
    "plt.show()"
   ]
  },
  {
   "cell_type": "code",
   "execution_count": 12,
   "id": "ce724ff9-0150-4f8e-9acf-1dd6b13cb1c8",
   "metadata": {},
   "outputs": [
    {
     "data": {
      "text/html": [
       "<div>\n",
       "<style scoped>\n",
       "    .dataframe tbody tr th:only-of-type {\n",
       "        vertical-align: middle;\n",
       "    }\n",
       "\n",
       "    .dataframe tbody tr th {\n",
       "        vertical-align: top;\n",
       "    }\n",
       "\n",
       "    .dataframe thead th {\n",
       "        text-align: right;\n",
       "    }\n",
       "</style>\n",
       "<table border=\"1\" class=\"dataframe\">\n",
       "  <thead>\n",
       "    <tr style=\"text-align: right;\">\n",
       "      <th></th>\n",
       "      <th>GRP_0</th>\n",
       "      <th>GRP_8</th>\n",
       "      <th>GRP_24</th>\n",
       "      <th>GRP_12</th>\n",
       "      <th>GRP_9</th>\n",
       "      <th>GRP_2</th>\n",
       "      <th>GRP_19</th>\n",
       "      <th>GRP_3</th>\n",
       "      <th>GRP_6</th>\n",
       "      <th>GRP_13</th>\n",
       "      <th>...</th>\n",
       "      <th>GRP_54</th>\n",
       "      <th>GRP_57</th>\n",
       "      <th>GRP_71</th>\n",
       "      <th>GRP_73</th>\n",
       "      <th>GRP_61</th>\n",
       "      <th>GRP_35</th>\n",
       "      <th>GRP_72</th>\n",
       "      <th>GRP_67</th>\n",
       "      <th>GRP_70</th>\n",
       "      <th>GRP_64</th>\n",
       "    </tr>\n",
       "  </thead>\n",
       "  <tbody>\n",
       "    <tr>\n",
       "      <th>Assignment group</th>\n",
       "      <td>3426</td>\n",
       "      <td>644</td>\n",
       "      <td>285</td>\n",
       "      <td>255</td>\n",
       "      <td>251</td>\n",
       "      <td>241</td>\n",
       "      <td>213</td>\n",
       "      <td>198</td>\n",
       "      <td>182</td>\n",
       "      <td>145</td>\n",
       "      <td>...</td>\n",
       "      <td>2</td>\n",
       "      <td>2</td>\n",
       "      <td>2</td>\n",
       "      <td>1</td>\n",
       "      <td>1</td>\n",
       "      <td>1</td>\n",
       "      <td>1</td>\n",
       "      <td>1</td>\n",
       "      <td>1</td>\n",
       "      <td>1</td>\n",
       "    </tr>\n",
       "  </tbody>\n",
       "</table>\n",
       "<p>1 rows × 74 columns</p>\n",
       "</div>"
      ],
      "text/plain": [
       "                  GRP_0  GRP_8  GRP_24  GRP_12  GRP_9  GRP_2  GRP_19  GRP_3  \\\n",
       "Assignment group   3426    644     285     255    251    241     213    198   \n",
       "\n",
       "                  GRP_6  GRP_13  ...  GRP_54  GRP_57  GRP_71  GRP_73  GRP_61  \\\n",
       "Assignment group    182     145  ...       2       2       2       1       1   \n",
       "\n",
       "                  GRP_35  GRP_72  GRP_67  GRP_70  GRP_64  \n",
       "Assignment group       1       1       1       1       1  \n",
       "\n",
       "[1 rows x 74 columns]"
      ]
     },
     "execution_count": 12,
     "metadata": {},
     "output_type": "execute_result"
    }
   ],
   "source": [
    "temp_df2 = pd.DataFrame(df['Assignment group'].value_counts())\n",
    "temp_df2\n",
    "temp_df2 = temp_df2.T\n",
    "temp_df2"
   ]
  },
  {
   "cell_type": "code",
   "execution_count": 13,
   "id": "bd36244f-6db5-411b-bb53-2b012625c3be",
   "metadata": {},
   "outputs": [],
   "source": [
    "df['Count'] = df.apply(lambda row: temp_df2[row['Assignment group']] , axis=1)\n",
    "\n",
    "df.loc[df['Count'] <= 200 , \"Assignment group\"] = \"GRP_X\""
   ]
  },
  {
   "cell_type": "code",
   "execution_count": 14,
   "id": "0fdbcd5e-6a92-4545-ae61-cc9769dea33a",
   "metadata": {},
   "outputs": [
    {
     "data": {
      "image/png": "[encoded data removed]",
      "text/plain": [
       "<Figure size 1440x360 with 1 Axes>"
      ]
     },
     "metadata": {
      "needs_background": "light"
     },
     "output_type": "display_data"
    }
   ],
   "source": [
    "plt.subplots(figsize = (20,5))\n",
    "\n",
    "sns.countplot(x='Assignment group', data=df,order = df['Assignment group'].value_counts().index)\n",
    "plt.xlabel('Assignment Group') \n",
    "plt.ylabel('Count') \n",
    "plt.title('Tickets Distribution - With GRP_X')\n",
    "\n",
    "plt.show()"
   ]
  },
  {
   "cell_type": "code",
   "execution_count": 17,
   "id": "16a70c96-175e-4821-8f77-ffd6aa664bda",
   "metadata": {},
   "outputs": [
    {
     "data": {
      "text/plain": [
       "74"
      ]
     },
     "execution_count": 17,
     "metadata": {},
     "output_type": "execute_result"
    }
   ],
   "source": [
    "df[\"Assignment group\"].nunique()"
   ]
  },
  {
   "cell_type": "code",
   "execution_count": 18,
   "id": "8e479cb2-2534-4e0e-af9f-36d0864fce36",
   "metadata": {},
   "outputs": [
    {
     "data": {
      "text/plain": [
       "array(['GRP_0', 'GRP_1', 'GRP_3', 'GRP_4', 'GRP_5', 'GRP_6', 'GRP_7',\n",
       "       'GRP_8', 'GRP_9', 'GRP_10', 'GRP_11', 'GRP_12', 'GRP_13', 'GRP_14',\n",
       "       'GRP_15', 'GRP_16', 'GRP_17', 'GRP_18', 'GRP_19', 'GRP_2',\n",
       "       'GRP_20', 'GRP_21', 'GRP_22', 'GRP_23', 'GRP_24', 'GRP_25',\n",
       "       'GRP_26', 'GRP_27', 'GRP_28', 'GRP_29', 'GRP_30', 'GRP_31',\n",
       "       'GRP_33', 'GRP_34', 'GRP_35', 'GRP_36', 'GRP_37', 'GRP_38',\n",
       "       'GRP_39', 'GRP_40', 'GRP_41', 'GRP_42', 'GRP_43', 'GRP_44',\n",
       "       'GRP_45', 'GRP_46', 'GRP_47', 'GRP_48', 'GRP_49', 'GRP_50',\n",
       "       'GRP_51', 'GRP_52', 'GRP_53', 'GRP_54', 'GRP_55', 'GRP_56',\n",
       "       'GRP_57', 'GRP_58', 'GRP_59', 'GRP_60', 'GRP_61', 'GRP_32',\n",
       "       'GRP_62', 'GRP_63', 'GRP_64', 'GRP_65', 'GRP_66', 'GRP_67',\n",
       "       'GRP_68', 'GRP_69', 'GRP_70', 'GRP_71', 'GRP_73', 'GRP_72'],\n",
       "      dtype=object)"
      ]
     },
     "execution_count": 18,
     "metadata": {},
     "output_type": "execute_result"
    }
   ],
   "source": [
    "df[\"Assignment group\"].unique()"
   ]
  },
  {
   "cell_type": "code",
   "execution_count": null,
   "id": "a0641460-85b4-4c29-818f-867a9e085e81",
   "metadata": {},
   "outputs": [],
   "source": []
  },
  {
   "cell_type": "code",
   "execution_count": null,
   "id": "ca069819-93c9-4386-99a4-2fa7021536f3",
   "metadata": {},
   "outputs": [],
   "source": []
  },
  {
   "cell_type": "code",
   "execution_count": null,
   "id": "587ac4e0-50d0-42a2-8c2f-6732dcd928fc",
   "metadata": {},
   "outputs": [],
   "source": []
  },
  {
   "cell_type": "code",
   "execution_count": null,
   "id": "b4796199-052f-49c4-818e-f36fb723e769",
   "metadata": {},
   "outputs": [],
   "source": []
  },
  {
   "cell_type": "code",
   "execution_count": null,
   "id": "e5878d91-1c78-42f6-9bb4-507dc01bdf2c",
   "metadata": {},
   "outputs": [],
   "source": []
  },
  {
   "cell_type": "code",
   "execution_count": null,
   "id": "dce8952f-7f0a-400b-8965-7e3513b250ef",
   "metadata": {},
   "outputs": [],
   "source": []
  }
 ],
 "metadata": {
  "kernelspec": {
   "display_name": "Python 3",
   "language": "python",
   "name": "python3"
  },
  "language_info": {
   "codemirror_mode": {
    "name": "ipython",
    "version": 3
   },
   "file_extension": ".py",
   "mimetype": "text/x-python",
   "name": "python",
   "nbconvert_exporter": "python",
   "pygments_lexer": "ipython3",
   "version": "3.8.8"
  }
 },
 "nbformat": 4,
 "nbformat_minor": 5
}
